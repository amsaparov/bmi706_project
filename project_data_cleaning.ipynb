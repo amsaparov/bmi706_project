{
 "cells": [
  {
   "cell_type": "code",
   "execution_count": 2,
   "id": "583a878f-09cd-450b-b790-766bf7fc7039",
   "metadata": {},
   "outputs": [
    {
     "name": "stderr",
     "output_type": "stream",
     "text": [
      "/opt/anaconda3/lib/python3.7/site-packages/IPython/core/interactiveshell.py:3457: DtypeWarning: Columns (6) have mixed types.Specify dtype option on import or set low_memory=False.\n",
      "  exec(code_obj, self.user_global_ns, self.user_ns)\n"
     ]
    }
   ],
   "source": [
    "import altair as alt\n",
    "import pandas as pd\n",
    "import numpy as np\n",
    "from vega_datasets import data\n",
    "\n",
    "### READ IN RAW DATA ###\n",
    "df_nat = pd.read_csv('2021natality_clean.csv')\n",
    "df_map = pd.read_csv('merged_maternal_morbidity.csv')"
   ]
  },
  {
   "cell_type": "code",
   "execution_count": 3,
   "id": "ced6fcc1-96d5-424c-a4ef-3c1e54e7c14e",
   "metadata": {},
   "outputs": [],
   "source": [
    "### DATA FIONA ###\n",
    "# rename columns of interest with long names\n",
    "mm_county = df_map.rename(columns={\"Average Age of Mother (years)_MM\": \"Avg_Age_MM\", \"% of Total Births_MM\": \"percent_MM\"})\n",
    "\n",
    "# reformat state and county code to match the vega dataset county ids\n",
    "state_code = []\n",
    "county_code = []\n",
    "for i in range(len(mm_county)):\n",
    "    if len(str(mm_county[\"County of Residence Code\"][i])) == 6:\n",
    "        state_code.append(str(mm_county[\"County of Residence Code\"][i])[:1])\n",
    "        county_code.append(str(mm_county[\"County of Residence Code\"][i])[1:4])\n",
    "    if len(str(mm_county[\"County of Residence Code\"][i])) == 7:\n",
    "        state_code.append(str(mm_county[\"County of Residence Code\"][i])[:2])\n",
    "        county_code.append(str(mm_county[\"County of Residence Code\"][i])[2:5])\n",
    "        \n",
    "mm_id = []\n",
    "for i in range(len(mm_county)):\n",
    "    mm_id.append(int(state_code[i] + county_code[i]))\n",
    "\n",
    "# change the percentage column from a string to floats\n",
    "new_percent = []\n",
    "for i in range(len(mm_county)):\n",
    "    percent = mm_county[\"percent_MM\"][i]\n",
    "    new_percent.append(float(percent[:-1]))\n",
    "    \n",
    "# change county id and percent columns to the newly formatted columns from above\n",
    "mm_county[\"county-id\"] = mm_id\n",
    "mm_county[\"percent_MM\"] = new_percent"
   ]
  },
  {
   "cell_type": "code",
   "execution_count": 7,
   "id": "2f62f981-fcb3-4062-8792-4442a4dc76ab",
   "metadata": {},
   "outputs": [],
   "source": [
    "# Save Fiona's Data\n",
    "mm_county.to_csv('data/mm_county_fiona.csv', index = False)"
   ]
  },
  {
   "cell_type": "code",
   "execution_count": 9,
   "id": "8c4a37e2-0df2-4b3a-a3a3-74811574e879",
   "metadata": {},
   "outputs": [],
   "source": [
    "### DATA ISABEL ###\n",
    "subset = df_nat[['dob_yy', 'dob_mm', 'dob_tt', 'no_mmorb', 'mm_mtr', 'mm_plac', 'mm_rupt', 'mm_uhyst', 'mm_aicu']]\n",
    "morb = subset[['dob_mm', 'no_mmorb', 'dob_tt']]\n",
    "\n",
    "# group and filter out unknown values\n",
    "morb_group = morb.groupby(['dob_mm', 'no_mmorb']).count()\n",
    "morb_group = morb_group.reset_index()\n",
    "morb_group = morb_group.loc[morb_group['no_mmorb'] != 9]\n",
    "\n",
    "# recode\n",
    "morb_group['no_mmorb'] = morb_group['no_mmorb'].map({1: 'Survival', 0: 'Death'})\n",
    "morb_group['dob_mm'] = morb_group['dob_mm'].map({1: 'January', 2: 'February', 3: 'March', 4: 'April', 5: 'May',\n",
    "                                                6: 'June', 7: 'July', 8: 'August', 9: 'September', 10: 'October',\n",
    "                                                11: 'November', 12: 'December'})\n",
    "\n",
    "# filter unknown times and outcomes\n",
    "morb = morb.loc[morb['dob_tt'] != 9999]\n",
    "morb = morb.loc[morb['no_mmorb'] != 9]\n",
    "\n",
    "# create bins to count the number of births per hour\n",
    "morb['bins'] = pd.cut(x=morb['dob_tt'], bins=[0, 100, 200, 300, 400, 500, 600, 700, 800, 900, 1000, 1100, \n",
    "                                             1200, 1300, 1400, 1500, 1600, 1700, 1800, 1900, 2000, \n",
    "                                             2100, 2200, 2300, 2400], labels=['0:00-1:00', '1:01-2:00', '2:01-3:00', '3:01-4:00', '4:01-5:00',\n",
    "                         '5:01-6:00', '6:01-7:00', '7:01-8:00', '8:01-9:00', '9:01-10:00', '10:01-11:00',\n",
    "                         '11:01-12:00', '12:01-13:00', '13:01-14:00', '14:01-15:00', '15:01-16:00',\n",
    "                         '16:01-17:00', '17:01-18:00', '18:01-19:00', '19:01-20:00', '20:01-21:00',\n",
    "                         '21:01-22:00', '22:01-23:00', '23:01-24:00'])\n",
    "\n",
    "morb['dob_mm'] = morb['dob_mm'].map({1: 'January', 2: 'February', 3: 'March', 4: 'April', 5: 'May',\n",
    "                                                6: 'June', 7: 'July', 8: 'August', 9: 'September', 10: 'October',\n",
    "                                                11: 'November', 12: 'December'})\n",
    "\n",
    "morb_group2 = morb.groupby(['bins', 'dob_mm', 'no_mmorb']).count()\n",
    "morb_group2 = morb_group2.reset_index()\n",
    "morb_group2['no_mmorb'] = morb_group2['no_mmorb'].map({1: 'Survival', 0: 'Death'})"
   ]
  },
  {
   "cell_type": "code",
   "execution_count": 12,
   "id": "00683985-2b6f-4202-bd5a-7ddca2c4133b",
   "metadata": {},
   "outputs": [],
   "source": [
    "# Save Isabel's Data\n",
    "morb_group.to_csv('data/morb_group_isabel.csv', index = False)\n",
    "morb_group2.to_csv('data/morb_group2_isabel.csv', index = False)"
   ]
  },
  {
   "cell_type": "code",
   "execution_count": 36,
   "id": "b6293053-cf1b-47a0-ba79-8eefea0c3e6d",
   "metadata": {},
   "outputs": [
    {
     "name": "stderr",
     "output_type": "stream",
     "text": [
      "/opt/anaconda3/lib/python3.7/site-packages/ipykernel_launcher.py:8: SettingWithCopyWarning: \n",
      "A value is trying to be set on a copy of a slice from a DataFrame.\n",
      "Try using .loc[row_indexer,col_indexer] = value instead\n",
      "\n",
      "See the caveats in the documentation: https://pandas.pydata.org/pandas-docs/stable/user_guide/indexing.html#returning-a-view-versus-a-copy\n",
      "  \n"
     ]
    }
   ],
   "source": [
    "### DATA ALICE ###\n",
    "df_natality_clean = df_nat[df_nat['no_mmorb'] == 0]\n",
    "\n",
    "df_natality_clean1 = df_natality_clean[['no_infec', 'rf_gdiab', 'rf_ghype', 'mm_mtr', \n",
    "                                        'mm_plac', 'mm_rupt', 'mm_uhyst', 'mm_aicu']]\n",
    "\n",
    "for i in ['mm_mtr', 'mm_plac', 'mm_rupt', 'mm_uhyst', 'mm_aicu', 'rf_gdiab', 'rf_ghype']:\n",
    "    df_natality_clean1[i] = df_natality_clean1[i] == 'Y'\n",
    "\n",
    "df_natality_clean2 = pd.melt(\n",
    "     df_natality_clean1, id_vars = ['no_infec', 'rf_gdiab', 'rf_ghype'], \n",
    "     var_name = 'Outcome', value_name = 'yn')\n",
    "\n",
    "df_natality_clean2['yn'] = df_natality_clean2['yn'].astype(int)\n",
    "\n",
    "df_natality_clean2 = df_natality_clean2.rename(columns = {'no_infec': 'No Infection', \n",
    "                                     'rf_gdiab': 'Gestational Diabetes', \n",
    "                                     'rf_ghype': 'Gestational Hypertension'})\n",
    "\n",
    "df_natality_clean2['Outcome'] = df_natality_clean2['Outcome'].map({'mm_mtr': 'Maternal Transfusion', \n",
    "                                                                   'mm_plac': 'Perineal Laceration', \n",
    "                                                                   'mm_rupt': 'Ruptured Uterus', \n",
    "                                                                   'mm_uhyst': 'Unplanned Hysterectomy', \n",
    "                                                                   'mm_aicu': 'Admit to ICU'})\n",
    "\n",
    "df_grouped1 = df_natality_clean2.groupby(['No Infection', 'Gestational Diabetes', 'Gestational Hypertension', 'Outcome'], \n",
    "    group_keys = False).sum().apply(lambda x: x).reset_index()\n",
    "\n",
    "df_melt1 = pd.melt(\n",
    "     df_natality_clean1, id_vars = ['mm_mtr', 'mm_plac', 'mm_rupt', 'mm_uhyst', 'mm_aicu'], \n",
    "     var_name = 'Risk Factor', value_name = 'Count'\n",
    ")\n",
    "df_melt1['Count'] = df_melt1['Count'].astype(int)\n",
    "df_grouped2 = df_melt1.groupby('Risk Factor').sum().reset_index()\n",
    "\n",
    "df_grouped2['Risk Factor'] = df_grouped2['Risk Factor'].map({'no_infec': 'No Infection', \n",
    "                                                     'rf_gdiab': 'Gestational Diabetes', \n",
    "                                                     'rf_ghype': 'Gestational Hypertension'})\n",
    "\n",
    "df_sum_counts = df_grouped2[['Risk Factor', 'Count']]"
   ]
  },
  {
   "cell_type": "code",
   "execution_count": 55,
   "id": "af3324bd-1e20-471c-897d-9bac69da2e0c",
   "metadata": {},
   "outputs": [],
   "source": [
    "df_natality_clean2['No Infection'] = df_natality_clean2['No Infection'].map({0: 'Infection', \n",
    "                                                                             1: 'No Infection'})\n",
    "df_natality_clean2['Gestational Diabetes'] = df_natality_clean2['Gestational Diabetes'].map({False: 'No Gest. Diabetes', \n",
    "                                                                                             True: 'Gest. Diabetes'})\n",
    "df_natality_clean2['Gestational Hypertension'] = df_natality_clean2['Gestational Hypertension'].map({False: 'No Gest. Hypertension', \n",
    "                                                                                                     True: 'Gest. Hypertension'})"
   ]
  },
  {
   "cell_type": "code",
   "execution_count": 38,
   "id": "526185b0-78ff-46d8-b972-ea328b90e3f6",
   "metadata": {},
   "outputs": [],
   "source": [
    "# Save Alice's Data\n",
    "df_sum_counts.to_csv('data/sum_risk_alice.csv', index = False)\n",
    "df_natality_clean2.to_csv('data/rate_risk_alice.csv', index = False)"
   ]
  },
  {
   "cell_type": "code",
   "execution_count": 41,
   "id": "e1188128-901e-49f6-be6c-5f501106b8ac",
   "metadata": {},
   "outputs": [
    {
     "name": "stderr",
     "output_type": "stream",
     "text": [
      "/opt/anaconda3/lib/python3.7/site-packages/pandas/core/indexing.py:1667: SettingWithCopyWarning: \n",
      "A value is trying to be set on a copy of a slice from a DataFrame.\n",
      "Try using .loc[row_indexer,col_indexer] = value instead\n",
      "\n",
      "See the caveats in the documentation: https://pandas.pydata.org/pandas-docs/stable/user_guide/indexing.html#returning-a-view-versus-a-copy\n",
      "  self.obj[key] = value\n"
     ]
    }
   ],
   "source": [
    "# data risk averaging #\n",
    "df_bw_risk = df_nat[['mager', 'mar_p', 'dmar',\n",
    "                     'meduc', 'feduc', 'cig_0', 'dbwt']]\n",
    "\n",
    "df_bw_risk_clean = df_bw_risk[df_bw_risk['mar_p'] != 'U']\n",
    "\n",
    "df_bw_risk_clean.loc[:,'mage_cat'] = np.where(df_bw_risk_clean['mager'] < 17, '<20',\n",
    "                               np.where(df_bw_risk_clean['mager'] < 26, '20-25',\n",
    "                               np.where(df_bw_risk_clean['mager'] < 31, '26-30',\n",
    "                               np.where(df_bw_risk_clean['mager'] < 36, '31-35',\n",
    "                               np.where(df_bw_risk_clean['mager'] < 41, '36-40',\n",
    "                               np.where(df_bw_risk_clean['mager'] < 46, '41-45', '46-50'))))))\n",
    "\n",
    "df_bw_risk_clean.loc[:,'cig_cat'] = np.where(df_bw_risk_clean['cig_0'] < 1, 'none', \n",
    "                                    np.where(df_bw_risk_clean['cig_0'] < 5, '<5',\n",
    "                                    np.where(df_bw_risk_clean['cig_0'] < 11, '5-10',\n",
    "                                    np.where(df_bw_risk_clean['cig_0'] < 21, '11-20',\n",
    "                                    np.where(df_bw_risk_clean['cig_0'] < 41, '21-40', '41+')))))\n",
    "\n",
    "df_bw_risk_clean1 = df_bw_risk_clean.drop(columns = ['mager', 'cig_0'])\n",
    "\n",
    "df_bw1 = df_bw_risk_clean1.groupby(['mage_cat', 'mar_p', 'dmar', 'meduc', 'feduc', 'cig_cat'], \n",
    "                                     group_keys=False).mean().apply(lambda x: x).reset_index()\n",
    "\n",
    "#marital status\n",
    "df_bw1['dmar'] = df_bw1['dmar'].map({1.0: 'Married',\n",
    "                                     2.0: 'Unmarried'})\n",
    "#meduc\n",
    "#['< 8th grade', '9-12th grade', 'High school graduate/GED',\n",
    "#'Some college', 'Associate', \"Bachelor's\", \"Master's\", 'Doctorate/Profession', 'Unknown']\n",
    "df_bw1['meduc'] = df_bw1['meduc'].map({1: '< 8th grade',\n",
    "                                       2: '9-12th grade',\n",
    "                                       3: 'High school graduate/GED',\n",
    "                                       4: 'Some college',\n",
    "                                       5: 'Associate', \n",
    "                                       6: \"Bachelor's\", 7: \"Master's\", \n",
    "                                       8: 'Doctorate/Profession', \n",
    "                                       9: 'Unknown'})\n",
    "#feduc\n",
    "df_bw1['feduc'] = df_bw1['feduc'].map({1: '< 8th grade',\n",
    "                                       2: '9-12th grade',\n",
    "                                       3: 'High school graduate/GED',\n",
    "                                       4: 'Some college',\n",
    "                                       5: 'Associate', \n",
    "                                       6: \"Bachelor's\", 7: \"Master's\", \n",
    "                                       8: 'Doctorate/Profession', \n",
    "                                       9: 'Unknown'})"
   ]
  },
  {
   "cell_type": "code",
   "execution_count": 43,
   "id": "c85db63a-c15d-4516-b8b2-e10b2ce81f21",
   "metadata": {},
   "outputs": [],
   "source": [
    "# Save Alice's Data part 2\n",
    "df_bw1.to_csv('data/bw_risk_alice.csv', index = False)"
   ]
  }
 ],
 "metadata": {
  "kernelspec": {
   "display_name": "Python 3 (ipykernel)",
   "language": "python",
   "name": "python3"
  },
  "language_info": {
   "codemirror_mode": {
    "name": "ipython",
    "version": 3
   },
   "file_extension": ".py",
   "mimetype": "text/x-python",
   "name": "python",
   "nbconvert_exporter": "python",
   "pygments_lexer": "ipython3",
   "version": "3.7.16"
  }
 },
 "nbformat": 4,
 "nbformat_minor": 5
}
